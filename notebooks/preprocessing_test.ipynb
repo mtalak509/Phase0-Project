{
 "cells": [
  {
   "cell_type": "code",
   "execution_count": 365,
   "id": "40ebecb5",
   "metadata": {},
   "outputs": [],
   "source": [
    "import pandas as pd\n",
    "import numpy as np\n",
    "import sklearn as sk\n",
    "import re"
   ]
  },
  {
   "cell_type": "code",
   "execution_count": 366,
   "id": "bc6332af",
   "metadata": {},
   "outputs": [
    {
     "name": "stdout",
     "output_type": "stream",
     "text": [
      "<class 'pandas.core.frame.DataFrame'>\n",
      "RangeIndex: 23368 entries, 0 to 23367\n",
      "Data columns (total 23 columns):\n",
      " #   Column                    Non-Null Count  Dtype  \n",
      "---  ------                    --------------  -----  \n",
      " 0   Unnamed: 0                23368 non-null  int64  \n",
      " 1   ID  объявления            23368 non-null  int64  \n",
      " 2   Количество комнат         22327 non-null  object \n",
      " 3   Тип                       23368 non-null  object \n",
      " 4   Метро                     22053 non-null  object \n",
      " 5   Адрес                     23368 non-null  object \n",
      " 6   Площадь, м2               23368 non-null  object \n",
      " 7   Дом                       23368 non-null  object \n",
      " 8   Парковка                  9951 non-null   object \n",
      " 9   Цена                      23368 non-null  float64\n",
      " 10  Ремонт                    20613 non-null  object \n",
      " 11  Площадь комнат, м2        14458 non-null  object \n",
      " 12  Балкон                    15390 non-null  object \n",
      " 13  Окна                      16755 non-null  object \n",
      " 14  Санузел                   20696 non-null  object \n",
      " 15  Можно с детьми/животными  17272 non-null  object \n",
      " 16  Дополнительно             23011 non-null  object \n",
      " 17  Название ЖК               5848 non-null   object \n",
      " 18  Серия дома                2163 non-null   object \n",
      " 19  Высота потолков, м        11206 non-null  float64\n",
      " 20  Лифт                      17868 non-null  object \n",
      " 21  Мусоропровод              12846 non-null  object \n",
      " 22  Залог                     22458 non-null  float64\n",
      "dtypes: float64(3), int64(2), object(18)\n",
      "memory usage: 4.1+ MB\n"
     ]
    }
   ],
   "source": [
    "data = pd.read_csv('/home/maxim/DS/Phase_0/Phase_0_final_proj/Phase0-Project/tmp_data/data_for_graph')\n",
    "data.info()"
   ]
  },
  {
   "cell_type": "markdown",
   "id": "d778911d",
   "metadata": {},
   "source": [
    "# Очистка выбросов по цене методом IQR"
   ]
  },
  {
   "cell_type": "code",
   "execution_count": 367,
   "id": "a902524b",
   "metadata": {},
   "outputs": [
    {
     "data": {
      "text/plain": [
       "np.float64(132000.0)"
      ]
     },
     "execution_count": 367,
     "metadata": {},
     "output_type": "execute_result"
    }
   ],
   "source": [
    "\n",
    "Q1 = data['Цена'].quantile(0.25)\n",
    "Q3 = data['Цена'].quantile(0.75)\n",
    "IQR = Q3 - Q1\n",
    "\n",
    "lower_bound = Q1 - 1.5 * IQR\n",
    "upper_bound = Q3 + 1.5 * IQR\n",
    "\n",
    "upper_bound"
   ]
  },
  {
   "cell_type": "code",
   "execution_count": 368,
   "id": "594b4fb4",
   "metadata": {},
   "outputs": [],
   "source": [
    "data = data[(data['Цена'] >= lower_bound) & (data['Цена'] <= upper_bound)]\n"
   ]
  },
  {
   "cell_type": "code",
   "execution_count": 369,
   "id": "fad74f82",
   "metadata": {},
   "outputs": [
    {
     "name": "stdout",
     "output_type": "stream",
     "text": [
      "Unnamed: 0                      0\n",
      "ID  объявления                  0\n",
      "Количество комнат            1021\n",
      "Тип                             0\n",
      "Метро                        1132\n",
      "Адрес                           0\n",
      "Площадь, м2                     0\n",
      "Дом                             0\n",
      "Парковка                    12132\n",
      "Цена                            0\n",
      "Ремонт                       2371\n",
      "Площадь комнат, м2           7467\n",
      "Балкон                       6527\n",
      "Окна                         5856\n",
      "Санузел                      2278\n",
      "Можно с детьми/животными     5480\n",
      "Дополнительно                 293\n",
      "Название ЖК                 16031\n",
      "Серия дома                  18530\n",
      "Высота потолков, м          10396\n",
      "Лифт                         4745\n",
      "Мусоропровод                 8641\n",
      "Залог                         872\n",
      "dtype: int64\n"
     ]
    }
   ],
   "source": [
    "missing_values_count = data.isnull().sum()\n",
    "print(missing_values_count)"
   ]
  },
  {
   "cell_type": "markdown",
   "id": "983d745d",
   "metadata": {},
   "source": [
    "# Площадь оставить только общую (М)"
   ]
  },
  {
   "cell_type": "code",
   "execution_count": 370,
   "id": "a504ecad",
   "metadata": {},
   "outputs": [
    {
     "data": {
      "text/html": [
       "<div>\n",
       "<style scoped>\n",
       "    .dataframe tbody tr th:only-of-type {\n",
       "        vertical-align: middle;\n",
       "    }\n",
       "\n",
       "    .dataframe tbody tr th {\n",
       "        vertical-align: top;\n",
       "    }\n",
       "\n",
       "    .dataframe thead th {\n",
       "        text-align: right;\n",
       "    }\n",
       "</style>\n",
       "<table border=\"1\" class=\"dataframe\">\n",
       "  <thead>\n",
       "    <tr style=\"text-align: right;\">\n",
       "      <th></th>\n",
       "      <th>Unnamed: 0</th>\n",
       "      <th>ID  объявления</th>\n",
       "      <th>Количество комнат</th>\n",
       "      <th>Тип</th>\n",
       "      <th>Метро</th>\n",
       "      <th>Адрес</th>\n",
       "      <th>Площадь, м2</th>\n",
       "      <th>Дом</th>\n",
       "      <th>Парковка</th>\n",
       "      <th>Цена</th>\n",
       "      <th>...</th>\n",
       "      <th>Окна</th>\n",
       "      <th>Санузел</th>\n",
       "      <th>Можно с детьми/животными</th>\n",
       "      <th>Дополнительно</th>\n",
       "      <th>Название ЖК</th>\n",
       "      <th>Серия дома</th>\n",
       "      <th>Высота потолков, м</th>\n",
       "      <th>Лифт</th>\n",
       "      <th>Мусоропровод</th>\n",
       "      <th>Залог</th>\n",
       "    </tr>\n",
       "  </thead>\n",
       "  <tbody>\n",
       "    <tr>\n",
       "      <th>8</th>\n",
       "      <td>8</td>\n",
       "      <td>273973191</td>\n",
       "      <td>3</td>\n",
       "      <td>Квартира</td>\n",
       "      <td>м. Смоленская (9 мин пешком)</td>\n",
       "      <td>Москва, Новинский бульвар, 18С1</td>\n",
       "      <td>120.0/95.0/10.0</td>\n",
       "      <td>5/10, Сталинский</td>\n",
       "      <td>открытая</td>\n",
       "      <td>130000.0</td>\n",
       "      <td>...</td>\n",
       "      <td>На улицу</td>\n",
       "      <td>Совмещенный (1)</td>\n",
       "      <td>Можно с животными</td>\n",
       "      <td>Мебель на кухне, Ванна, Стиральная машина, Кон...</td>\n",
       "      <td>NaN</td>\n",
       "      <td>NaN</td>\n",
       "      <td>3.0</td>\n",
       "      <td>Пасс (1)</td>\n",
       "      <td>Нет</td>\n",
       "      <td>130000.0</td>\n",
       "    </tr>\n",
       "    <tr>\n",
       "      <th>11</th>\n",
       "      <td>11</td>\n",
       "      <td>273999490</td>\n",
       "      <td>3, Изолированная</td>\n",
       "      <td>Квартира</td>\n",
       "      <td>м. Смоленская (2 мин пешком)</td>\n",
       "      <td>Москва, Новинский бульвар, 7</td>\n",
       "      <td>80.0/53.0/11.0</td>\n",
       "      <td>4/8, Кирпичный</td>\n",
       "      <td>NaN</td>\n",
       "      <td>100000.0</td>\n",
       "      <td>...</td>\n",
       "      <td>На улицу и двор</td>\n",
       "      <td>Совмещенный (1)</td>\n",
       "      <td>NaN</td>\n",
       "      <td>Мебель в комнатах, Мебель на кухне, Душевая ка...</td>\n",
       "      <td>NaN</td>\n",
       "      <td>NaN</td>\n",
       "      <td>NaN</td>\n",
       "      <td>Пасс (1)</td>\n",
       "      <td>NaN</td>\n",
       "      <td>110000.0</td>\n",
       "    </tr>\n",
       "    <tr>\n",
       "      <th>16</th>\n",
       "      <td>16</td>\n",
       "      <td>274995950</td>\n",
       "      <td>2</td>\n",
       "      <td>Квартира</td>\n",
       "      <td>м. Арбатская (10 мин пешком)</td>\n",
       "      <td>Москва, улица Новый Арбат, 15</td>\n",
       "      <td>30.0/20.0</td>\n",
       "      <td>19/26</td>\n",
       "      <td>NaN</td>\n",
       "      <td>120000.0</td>\n",
       "      <td>...</td>\n",
       "      <td>На улицу</td>\n",
       "      <td>Совмещенный (1)</td>\n",
       "      <td>Можно с детьми, Можно с животными</td>\n",
       "      <td>Мебель в комнатах, Мебель на кухне, Ванна, Душ...</td>\n",
       "      <td>The Book</td>\n",
       "      <td>NaN</td>\n",
       "      <td>NaN</td>\n",
       "      <td>NaN</td>\n",
       "      <td>NaN</td>\n",
       "      <td>120000.0</td>\n",
       "    </tr>\n",
       "    <tr>\n",
       "      <th>48</th>\n",
       "      <td>48</td>\n",
       "      <td>271265359</td>\n",
       "      <td>2, Оба варианта</td>\n",
       "      <td>Квартира</td>\n",
       "      <td>м. Смоленская (5 мин пешком)</td>\n",
       "      <td>Москва, улица Арбат, 45/24</td>\n",
       "      <td>60.0/43.0/10.0</td>\n",
       "      <td>5/6</td>\n",
       "      <td>наземная</td>\n",
       "      <td>90000.0</td>\n",
       "      <td>...</td>\n",
       "      <td>На улицу и двор</td>\n",
       "      <td>Совмещенный (1)</td>\n",
       "      <td>Можно с детьми</td>\n",
       "      <td>Мебель в комнатах, Мебель на кухне, Ванна, Душ...</td>\n",
       "      <td>NaN</td>\n",
       "      <td>NaN</td>\n",
       "      <td>3.2</td>\n",
       "      <td>Пасс (1)</td>\n",
       "      <td>NaN</td>\n",
       "      <td>90000.0</td>\n",
       "    </tr>\n",
       "    <tr>\n",
       "      <th>53</th>\n",
       "      <td>53</td>\n",
       "      <td>273779074</td>\n",
       "      <td>2</td>\n",
       "      <td>Квартира</td>\n",
       "      <td>м. Смоленская (7 мин пешком)</td>\n",
       "      <td>Москва, Большой Николопесковский переулок, 3</td>\n",
       "      <td>60.0/40.0/11.0</td>\n",
       "      <td>3/6, Кирпичный</td>\n",
       "      <td>NaN</td>\n",
       "      <td>120000.0</td>\n",
       "      <td>...</td>\n",
       "      <td>На улицу</td>\n",
       "      <td>Совмещенный (1)</td>\n",
       "      <td>Можно с детьми, Можно с животными</td>\n",
       "      <td>Мебель в комнатах, Ванна, Стиральная машина, К...</td>\n",
       "      <td>NaN</td>\n",
       "      <td>Индивидуальный проект</td>\n",
       "      <td>3.6</td>\n",
       "      <td>Пасс (1)</td>\n",
       "      <td>NaN</td>\n",
       "      <td>120000.0</td>\n",
       "    </tr>\n",
       "  </tbody>\n",
       "</table>\n",
       "<p>5 rows × 23 columns</p>\n",
       "</div>"
      ],
      "text/plain": [
       "    Unnamed: 0  ID  объявления Количество комнат       Тип  \\\n",
       "8            8       273973191                 3  Квартира   \n",
       "11          11       273999490  3, Изолированная  Квартира   \n",
       "16          16       274995950                 2  Квартира   \n",
       "48          48       271265359   2, Оба варианта  Квартира   \n",
       "53          53       273779074                 2  Квартира   \n",
       "\n",
       "                           Метро  \\\n",
       "8   м. Смоленская (9 мин пешком)   \n",
       "11  м. Смоленская (2 мин пешком)   \n",
       "16  м. Арбатская (10 мин пешком)   \n",
       "48  м. Смоленская (5 мин пешком)   \n",
       "53  м. Смоленская (7 мин пешком)   \n",
       "\n",
       "                                           Адрес      Площадь, м2  \\\n",
       "8                Москва, Новинский бульвар, 18С1  120.0/95.0/10.0   \n",
       "11                  Москва, Новинский бульвар, 7   80.0/53.0/11.0   \n",
       "16                 Москва, улица Новый Арбат, 15        30.0/20.0   \n",
       "48                    Москва, улица Арбат, 45/24   60.0/43.0/10.0   \n",
       "53  Москва, Большой Николопесковский переулок, 3   60.0/40.0/11.0   \n",
       "\n",
       "                 Дом  Парковка      Цена  ...             Окна  \\\n",
       "8   5/10, Сталинский  открытая  130000.0  ...         На улицу   \n",
       "11    4/8, Кирпичный       NaN  100000.0  ...  На улицу и двор   \n",
       "16             19/26       NaN  120000.0  ...         На улицу   \n",
       "48               5/6  наземная   90000.0  ...  На улицу и двор   \n",
       "53    3/6, Кирпичный       NaN  120000.0  ...         На улицу   \n",
       "\n",
       "            Санузел           Можно с детьми/животными  \\\n",
       "8   Совмещенный (1)                  Можно с животными   \n",
       "11  Совмещенный (1)                                NaN   \n",
       "16  Совмещенный (1)  Можно с детьми, Можно с животными   \n",
       "48  Совмещенный (1)                     Можно с детьми   \n",
       "53  Совмещенный (1)  Можно с детьми, Можно с животными   \n",
       "\n",
       "                                        Дополнительно Название ЖК  \\\n",
       "8   Мебель на кухне, Ванна, Стиральная машина, Кон...         NaN   \n",
       "11  Мебель в комнатах, Мебель на кухне, Душевая ка...         NaN   \n",
       "16  Мебель в комнатах, Мебель на кухне, Ванна, Душ...    The Book   \n",
       "48  Мебель в комнатах, Мебель на кухне, Ванна, Душ...         NaN   \n",
       "53  Мебель в комнатах, Ванна, Стиральная машина, К...         NaN   \n",
       "\n",
       "               Серия дома Высота потолков, м      Лифт Мусоропровод     Залог  \n",
       "8                     NaN                3.0  Пасс (1)          Нет  130000.0  \n",
       "11                    NaN                NaN  Пасс (1)          NaN  110000.0  \n",
       "16                    NaN                NaN       NaN          NaN  120000.0  \n",
       "48                    NaN                3.2  Пасс (1)          NaN   90000.0  \n",
       "53  Индивидуальный проект                3.6  Пасс (1)          NaN  120000.0  \n",
       "\n",
       "[5 rows x 23 columns]"
      ]
     },
     "execution_count": 370,
     "metadata": {},
     "output_type": "execute_result"
    }
   ],
   "source": [
    "data.head(5)"
   ]
  },
  {
   "cell_type": "code",
   "execution_count": 371,
   "id": "c6843408",
   "metadata": {},
   "outputs": [
    {
     "name": "stdout",
     "output_type": "stream",
     "text": [
      "198.0\n",
      "198.0\n"
     ]
    }
   ],
   "source": [
    "def roomsplitter(line):\n",
    "    res = line.split('/')\n",
    "    return res[0]\n",
    "\n",
    "print(roomsplitter('198.0/95.0/18.0'))\n",
    "print(roomsplitter('198.0'))"
   ]
  },
  {
   "cell_type": "code",
   "execution_count": 372,
   "id": "f54eff16",
   "metadata": {},
   "outputs": [],
   "source": [
    "data['Площадь, м2'] = data['Площадь, м2'].apply(roomsplitter).astype('float')"
   ]
  },
  {
   "cell_type": "markdown",
   "id": "a63b0b9b",
   "metadata": {},
   "source": [
    "# Привести площадь комнат к формату инт значения (количество комнат) (М)"
   ]
  },
  {
   "cell_type": "code",
   "execution_count": 373,
   "id": "cab67164",
   "metadata": {},
   "outputs": [
    {
     "data": {
      "text/plain": [
       "8              45 25 25\n",
       "11                  NaN\n",
       "16                  NaN\n",
       "48                18-25\n",
       "53                  NaN\n",
       "              ...      \n",
       "23363               NaN\n",
       "23364               NaN\n",
       "23365               NaN\n",
       "23366               NaN\n",
       "23367    26,2+15,5-22,0\n",
       "Name: Площадь комнат, м2, Length: 20455, dtype: object"
      ]
     },
     "execution_count": 373,
     "metadata": {},
     "output_type": "execute_result"
    }
   ],
   "source": [
    "data['Площадь комнат, м2']"
   ]
  },
  {
   "cell_type": "code",
   "execution_count": 374,
   "id": "91fbb5be",
   "metadata": {},
   "outputs": [
    {
     "data": {
      "text/plain": [
       "Unnamed: 0                                                                203\n",
       "ID  объявления                                                      273551383\n",
       "Количество комнат                                                           1\n",
       "Тип                                                                  Квартира\n",
       "Метро                                           м. Новодачная (20 мин пешком)\n",
       "Адрес                       Москва, Дмитровское шоссе, 169К5, ш. Москва-Са...\n",
       "Площадь, м2                                                              41.2\n",
       "Дом                                                          13/15, Панельный\n",
       "Парковка                                                                  NaN\n",
       "Цена                                                                  36000.0\n",
       "Ремонт                                                          Косметический\n",
       "Площадь комнат, м2                                                        NaN\n",
       "Балкон                                                             Лоджия (1)\n",
       "Окна                                                                 На улицу\n",
       "Санузел                                                        Раздельный (1)\n",
       "Можно с детьми/животными                    Можно с детьми, Можно с животными\n",
       "Дополнительно               Мебель в комнатах, Мебель на кухне, Ванна, Сти...\n",
       "Название ЖК                                          На Дмитровском 169, 2015\n",
       "Серия дома                                                                NaN\n",
       "Высота потолков, м                                                        NaN\n",
       "Лифт                                                                 Пасс (2)\n",
       "Мусоропровод                                                               Да\n",
       "Залог                                                                 40000.0\n",
       "Name: 203, dtype: object"
      ]
     },
     "execution_count": 374,
     "metadata": {},
     "output_type": "execute_result"
    }
   ],
   "source": [
    "data.iloc[30]"
   ]
  },
  {
   "cell_type": "code",
   "execution_count": 375,
   "id": "1a983301",
   "metadata": {},
   "outputs": [
    {
     "name": "stdout",
     "output_type": "stream",
     "text": [
      "['NaN']\n",
      "['180']\n",
      "['25', '25', '20', '25']\n"
     ]
    }
   ],
   "source": [
    "def roomcomposer(line):\n",
    "    try:\n",
    "        res = line.replace(' ', ',').replace('-', ',').split(',')\n",
    "        return res\n",
    "    except:\n",
    "        return np.nan\n",
    "\n",
    "print(roomcomposer('NaN'))\n",
    "print(roomcomposer('180'))\n",
    "print(roomcomposer('25-25-20-25'))"
   ]
  },
  {
   "cell_type": "code",
   "execution_count": 376,
   "id": "1864df5b",
   "metadata": {},
   "outputs": [
    {
     "data": {
      "text/plain": [
       "8                [45, 25, 25]\n",
       "11                        NaN\n",
       "16                        NaN\n",
       "48                   [18, 25]\n",
       "53                        NaN\n",
       "                 ...         \n",
       "23363                     NaN\n",
       "23364                     NaN\n",
       "23365                     NaN\n",
       "23366                     NaN\n",
       "23367    [26, 2+15, 5, 22, 0]\n",
       "Name: Площадь комнат, м2, Length: 20455, dtype: object"
      ]
     },
     "execution_count": 376,
     "metadata": {},
     "output_type": "execute_result"
    }
   ],
   "source": [
    "data['Площадь комнат, м2'].apply(roomcomposer)"
   ]
  },
  {
   "cell_type": "code",
   "execution_count": null,
   "id": "8329e421",
   "metadata": {},
   "outputs": [],
   "source": []
  },
  {
   "cell_type": "markdown",
   "id": "b5d61da6",
   "metadata": {},
   "source": [
    "# Отфильтровать значения в столбце количество комнат и привести к формату ИНТ"
   ]
  },
  {
   "cell_type": "code",
   "execution_count": 377,
   "id": "c0f3e69c",
   "metadata": {},
   "outputs": [],
   "source": [
    "def intchanger(text):\n",
    "    try:\n",
    "        res = int(''.join(list(filter(lambda x: x.isdigit() == True, text))))\n",
    "        return (res)\n",
    "    except:\n",
    "        return np.nan"
   ]
  },
  {
   "cell_type": "code",
   "execution_count": 378,
   "id": "2656dfb6",
   "metadata": {},
   "outputs": [],
   "source": [
    "data['Количество комнат'] = data['Количество комнат'].apply(intchanger)"
   ]
  },
  {
   "cell_type": "code",
   "execution_count": 379,
   "id": "e64567fc",
   "metadata": {},
   "outputs": [
    {
     "data": {
      "text/html": [
       "<div>\n",
       "<style scoped>\n",
       "    .dataframe tbody tr th:only-of-type {\n",
       "        vertical-align: middle;\n",
       "    }\n",
       "\n",
       "    .dataframe tbody tr th {\n",
       "        vertical-align: top;\n",
       "    }\n",
       "\n",
       "    .dataframe thead th {\n",
       "        text-align: right;\n",
       "    }\n",
       "</style>\n",
       "<table border=\"1\" class=\"dataframe\">\n",
       "  <thead>\n",
       "    <tr style=\"text-align: right;\">\n",
       "      <th></th>\n",
       "      <th>Unnamed: 0</th>\n",
       "      <th>ID  объявления</th>\n",
       "      <th>Количество комнат</th>\n",
       "      <th>Тип</th>\n",
       "      <th>Метро</th>\n",
       "      <th>Адрес</th>\n",
       "      <th>Площадь, м2</th>\n",
       "      <th>Дом</th>\n",
       "      <th>Парковка</th>\n",
       "      <th>Цена</th>\n",
       "      <th>...</th>\n",
       "      <th>Окна</th>\n",
       "      <th>Санузел</th>\n",
       "      <th>Можно с детьми/животными</th>\n",
       "      <th>Дополнительно</th>\n",
       "      <th>Название ЖК</th>\n",
       "      <th>Серия дома</th>\n",
       "      <th>Высота потолков, м</th>\n",
       "      <th>Лифт</th>\n",
       "      <th>Мусоропровод</th>\n",
       "      <th>Залог</th>\n",
       "    </tr>\n",
       "  </thead>\n",
       "  <tbody>\n",
       "    <tr>\n",
       "      <th>8</th>\n",
       "      <td>8</td>\n",
       "      <td>273973191</td>\n",
       "      <td>3.0</td>\n",
       "      <td>Квартира</td>\n",
       "      <td>м. Смоленская (9 мин пешком)</td>\n",
       "      <td>Москва, Новинский бульвар, 18С1</td>\n",
       "      <td>120.0</td>\n",
       "      <td>5/10, Сталинский</td>\n",
       "      <td>открытая</td>\n",
       "      <td>130000.0</td>\n",
       "      <td>...</td>\n",
       "      <td>На улицу</td>\n",
       "      <td>Совмещенный (1)</td>\n",
       "      <td>Можно с животными</td>\n",
       "      <td>Мебель на кухне, Ванна, Стиральная машина, Кон...</td>\n",
       "      <td>NaN</td>\n",
       "      <td>NaN</td>\n",
       "      <td>3.0</td>\n",
       "      <td>Пасс (1)</td>\n",
       "      <td>Нет</td>\n",
       "      <td>130000.0</td>\n",
       "    </tr>\n",
       "    <tr>\n",
       "      <th>11</th>\n",
       "      <td>11</td>\n",
       "      <td>273999490</td>\n",
       "      <td>3.0</td>\n",
       "      <td>Квартира</td>\n",
       "      <td>м. Смоленская (2 мин пешком)</td>\n",
       "      <td>Москва, Новинский бульвар, 7</td>\n",
       "      <td>80.0</td>\n",
       "      <td>4/8, Кирпичный</td>\n",
       "      <td>NaN</td>\n",
       "      <td>100000.0</td>\n",
       "      <td>...</td>\n",
       "      <td>На улицу и двор</td>\n",
       "      <td>Совмещенный (1)</td>\n",
       "      <td>NaN</td>\n",
       "      <td>Мебель в комнатах, Мебель на кухне, Душевая ка...</td>\n",
       "      <td>NaN</td>\n",
       "      <td>NaN</td>\n",
       "      <td>NaN</td>\n",
       "      <td>Пасс (1)</td>\n",
       "      <td>NaN</td>\n",
       "      <td>110000.0</td>\n",
       "    </tr>\n",
       "    <tr>\n",
       "      <th>16</th>\n",
       "      <td>16</td>\n",
       "      <td>274995950</td>\n",
       "      <td>2.0</td>\n",
       "      <td>Квартира</td>\n",
       "      <td>м. Арбатская (10 мин пешком)</td>\n",
       "      <td>Москва, улица Новый Арбат, 15</td>\n",
       "      <td>30.0</td>\n",
       "      <td>19/26</td>\n",
       "      <td>NaN</td>\n",
       "      <td>120000.0</td>\n",
       "      <td>...</td>\n",
       "      <td>На улицу</td>\n",
       "      <td>Совмещенный (1)</td>\n",
       "      <td>Можно с детьми, Можно с животными</td>\n",
       "      <td>Мебель в комнатах, Мебель на кухне, Ванна, Душ...</td>\n",
       "      <td>The Book</td>\n",
       "      <td>NaN</td>\n",
       "      <td>NaN</td>\n",
       "      <td>NaN</td>\n",
       "      <td>NaN</td>\n",
       "      <td>120000.0</td>\n",
       "    </tr>\n",
       "    <tr>\n",
       "      <th>48</th>\n",
       "      <td>48</td>\n",
       "      <td>271265359</td>\n",
       "      <td>2.0</td>\n",
       "      <td>Квартира</td>\n",
       "      <td>м. Смоленская (5 мин пешком)</td>\n",
       "      <td>Москва, улица Арбат, 45/24</td>\n",
       "      <td>60.0</td>\n",
       "      <td>5/6</td>\n",
       "      <td>наземная</td>\n",
       "      <td>90000.0</td>\n",
       "      <td>...</td>\n",
       "      <td>На улицу и двор</td>\n",
       "      <td>Совмещенный (1)</td>\n",
       "      <td>Можно с детьми</td>\n",
       "      <td>Мебель в комнатах, Мебель на кухне, Ванна, Душ...</td>\n",
       "      <td>NaN</td>\n",
       "      <td>NaN</td>\n",
       "      <td>3.2</td>\n",
       "      <td>Пасс (1)</td>\n",
       "      <td>NaN</td>\n",
       "      <td>90000.0</td>\n",
       "    </tr>\n",
       "    <tr>\n",
       "      <th>53</th>\n",
       "      <td>53</td>\n",
       "      <td>273779074</td>\n",
       "      <td>2.0</td>\n",
       "      <td>Квартира</td>\n",
       "      <td>м. Смоленская (7 мин пешком)</td>\n",
       "      <td>Москва, Большой Николопесковский переулок, 3</td>\n",
       "      <td>60.0</td>\n",
       "      <td>3/6, Кирпичный</td>\n",
       "      <td>NaN</td>\n",
       "      <td>120000.0</td>\n",
       "      <td>...</td>\n",
       "      <td>На улицу</td>\n",
       "      <td>Совмещенный (1)</td>\n",
       "      <td>Можно с детьми, Можно с животными</td>\n",
       "      <td>Мебель в комнатах, Ванна, Стиральная машина, К...</td>\n",
       "      <td>NaN</td>\n",
       "      <td>Индивидуальный проект</td>\n",
       "      <td>3.6</td>\n",
       "      <td>Пасс (1)</td>\n",
       "      <td>NaN</td>\n",
       "      <td>120000.0</td>\n",
       "    </tr>\n",
       "  </tbody>\n",
       "</table>\n",
       "<p>5 rows × 23 columns</p>\n",
       "</div>"
      ],
      "text/plain": [
       "    Unnamed: 0  ID  объявления  Количество комнат       Тип  \\\n",
       "8            8       273973191                3.0  Квартира   \n",
       "11          11       273999490                3.0  Квартира   \n",
       "16          16       274995950                2.0  Квартира   \n",
       "48          48       271265359                2.0  Квартира   \n",
       "53          53       273779074                2.0  Квартира   \n",
       "\n",
       "                           Метро  \\\n",
       "8   м. Смоленская (9 мин пешком)   \n",
       "11  м. Смоленская (2 мин пешком)   \n",
       "16  м. Арбатская (10 мин пешком)   \n",
       "48  м. Смоленская (5 мин пешком)   \n",
       "53  м. Смоленская (7 мин пешком)   \n",
       "\n",
       "                                           Адрес  Площадь, м2  \\\n",
       "8                Москва, Новинский бульвар, 18С1        120.0   \n",
       "11                  Москва, Новинский бульвар, 7         80.0   \n",
       "16                 Москва, улица Новый Арбат, 15         30.0   \n",
       "48                    Москва, улица Арбат, 45/24         60.0   \n",
       "53  Москва, Большой Николопесковский переулок, 3         60.0   \n",
       "\n",
       "                 Дом  Парковка      Цена  ...             Окна  \\\n",
       "8   5/10, Сталинский  открытая  130000.0  ...         На улицу   \n",
       "11    4/8, Кирпичный       NaN  100000.0  ...  На улицу и двор   \n",
       "16             19/26       NaN  120000.0  ...         На улицу   \n",
       "48               5/6  наземная   90000.0  ...  На улицу и двор   \n",
       "53    3/6, Кирпичный       NaN  120000.0  ...         На улицу   \n",
       "\n",
       "            Санузел           Можно с детьми/животными  \\\n",
       "8   Совмещенный (1)                  Можно с животными   \n",
       "11  Совмещенный (1)                                NaN   \n",
       "16  Совмещенный (1)  Можно с детьми, Можно с животными   \n",
       "48  Совмещенный (1)                     Можно с детьми   \n",
       "53  Совмещенный (1)  Можно с детьми, Можно с животными   \n",
       "\n",
       "                                        Дополнительно Название ЖК  \\\n",
       "8   Мебель на кухне, Ванна, Стиральная машина, Кон...         NaN   \n",
       "11  Мебель в комнатах, Мебель на кухне, Душевая ка...         NaN   \n",
       "16  Мебель в комнатах, Мебель на кухне, Ванна, Душ...    The Book   \n",
       "48  Мебель в комнатах, Мебель на кухне, Ванна, Душ...         NaN   \n",
       "53  Мебель в комнатах, Ванна, Стиральная машина, К...         NaN   \n",
       "\n",
       "               Серия дома Высота потолков, м      Лифт Мусоропровод     Залог  \n",
       "8                     NaN                3.0  Пасс (1)          Нет  130000.0  \n",
       "11                    NaN                NaN  Пасс (1)          NaN  110000.0  \n",
       "16                    NaN                NaN       NaN          NaN  120000.0  \n",
       "48                    NaN                3.2  Пасс (1)          NaN   90000.0  \n",
       "53  Индивидуальный проект                3.6  Пасс (1)          NaN  120000.0  \n",
       "\n",
       "[5 rows x 23 columns]"
      ]
     },
     "execution_count": 379,
     "metadata": {},
     "output_type": "execute_result"
    }
   ],
   "source": [
    "data.head(5)"
   ]
  },
  {
   "cell_type": "markdown",
   "id": "3619296d",
   "metadata": {},
   "source": [
    "# Вычислить ремонт по стоимости квартиры   (М)"
   ]
  },
  {
   "cell_type": "code",
   "execution_count": 380,
   "id": "e960c574",
   "metadata": {},
   "outputs": [
    {
     "data": {
      "text/html": [
       "<div>\n",
       "<style scoped>\n",
       "    .dataframe tbody tr th:only-of-type {\n",
       "        vertical-align: middle;\n",
       "    }\n",
       "\n",
       "    .dataframe tbody tr th {\n",
       "        vertical-align: top;\n",
       "    }\n",
       "\n",
       "    .dataframe thead th {\n",
       "        text-align: right;\n",
       "    }\n",
       "</style>\n",
       "<table border=\"1\" class=\"dataframe\">\n",
       "  <thead>\n",
       "    <tr style=\"text-align: right;\">\n",
       "      <th></th>\n",
       "      <th>Цена</th>\n",
       "      <th>Ремонт</th>\n",
       "      <th>Количество комнат</th>\n",
       "    </tr>\n",
       "  </thead>\n",
       "  <tbody>\n",
       "    <tr>\n",
       "      <th>8</th>\n",
       "      <td>130000.0</td>\n",
       "      <td>Евроремонт</td>\n",
       "      <td>3.0</td>\n",
       "    </tr>\n",
       "    <tr>\n",
       "      <th>11</th>\n",
       "      <td>100000.0</td>\n",
       "      <td>Евроремонт</td>\n",
       "      <td>3.0</td>\n",
       "    </tr>\n",
       "    <tr>\n",
       "      <th>16</th>\n",
       "      <td>120000.0</td>\n",
       "      <td>Евроремонт</td>\n",
       "      <td>2.0</td>\n",
       "    </tr>\n",
       "    <tr>\n",
       "      <th>48</th>\n",
       "      <td>90000.0</td>\n",
       "      <td>Евроремонт</td>\n",
       "      <td>2.0</td>\n",
       "    </tr>\n",
       "    <tr>\n",
       "      <th>53</th>\n",
       "      <td>120000.0</td>\n",
       "      <td>NaN</td>\n",
       "      <td>2.0</td>\n",
       "    </tr>\n",
       "    <tr>\n",
       "      <th>...</th>\n",
       "      <td>...</td>\n",
       "      <td>...</td>\n",
       "      <td>...</td>\n",
       "    </tr>\n",
       "    <tr>\n",
       "      <th>23363</th>\n",
       "      <td>42000.0</td>\n",
       "      <td>Евроремонт</td>\n",
       "      <td>NaN</td>\n",
       "    </tr>\n",
       "    <tr>\n",
       "      <th>23364</th>\n",
       "      <td>45000.0</td>\n",
       "      <td>Евроремонт</td>\n",
       "      <td>1.0</td>\n",
       "    </tr>\n",
       "    <tr>\n",
       "      <th>23365</th>\n",
       "      <td>50000.0</td>\n",
       "      <td>Дизайнерский</td>\n",
       "      <td>2.0</td>\n",
       "    </tr>\n",
       "    <tr>\n",
       "      <th>23366</th>\n",
       "      <td>55000.0</td>\n",
       "      <td>Евроремонт</td>\n",
       "      <td>2.0</td>\n",
       "    </tr>\n",
       "    <tr>\n",
       "      <th>23367</th>\n",
       "      <td>57000.0</td>\n",
       "      <td>Косметический</td>\n",
       "      <td>2.0</td>\n",
       "    </tr>\n",
       "  </tbody>\n",
       "</table>\n",
       "<p>20455 rows × 3 columns</p>\n",
       "</div>"
      ],
      "text/plain": [
       "           Цена         Ремонт  Количество комнат\n",
       "8      130000.0     Евроремонт                3.0\n",
       "11     100000.0     Евроремонт                3.0\n",
       "16     120000.0     Евроремонт                2.0\n",
       "48      90000.0     Евроремонт                2.0\n",
       "53     120000.0            NaN                2.0\n",
       "...         ...            ...                ...\n",
       "23363   42000.0     Евроремонт                NaN\n",
       "23364   45000.0     Евроремонт                1.0\n",
       "23365   50000.0   Дизайнерский                2.0\n",
       "23366   55000.0     Евроремонт                2.0\n",
       "23367   57000.0  Косметический                2.0\n",
       "\n",
       "[20455 rows x 3 columns]"
      ]
     },
     "execution_count": 380,
     "metadata": {},
     "output_type": "execute_result"
    }
   ],
   "source": [
    "data[['Цена', 'Ремонт', 'Количество комнат']]"
   ]
  },
  {
   "cell_type": "code",
   "execution_count": 381,
   "id": "ccbdf170",
   "metadata": {},
   "outputs": [
    {
     "data": {
      "text/html": [
       "<div>\n",
       "<style scoped>\n",
       "    .dataframe tbody tr th:only-of-type {\n",
       "        vertical-align: middle;\n",
       "    }\n",
       "\n",
       "    .dataframe tbody tr th {\n",
       "        vertical-align: top;\n",
       "    }\n",
       "\n",
       "    .dataframe thead th {\n",
       "        text-align: right;\n",
       "    }\n",
       "</style>\n",
       "<table border=\"1\" class=\"dataframe\">\n",
       "  <thead>\n",
       "    <tr style=\"text-align: right;\">\n",
       "      <th></th>\n",
       "      <th>Количество комнат</th>\n",
       "      <th>Ремонт</th>\n",
       "      <th>Медианная_цена</th>\n",
       "    </tr>\n",
       "  </thead>\n",
       "  <tbody>\n",
       "    <tr>\n",
       "      <th>0</th>\n",
       "      <td>1.0</td>\n",
       "      <td>Без ремонта</td>\n",
       "      <td>27000.0</td>\n",
       "    </tr>\n",
       "    <tr>\n",
       "      <th>1</th>\n",
       "      <td>1.0</td>\n",
       "      <td>Дизайнерский</td>\n",
       "      <td>55000.0</td>\n",
       "    </tr>\n",
       "    <tr>\n",
       "      <th>2</th>\n",
       "      <td>1.0</td>\n",
       "      <td>Евроремонт</td>\n",
       "      <td>40000.0</td>\n",
       "    </tr>\n",
       "    <tr>\n",
       "      <th>3</th>\n",
       "      <td>1.0</td>\n",
       "      <td>Косметический</td>\n",
       "      <td>33000.0</td>\n",
       "    </tr>\n",
       "    <tr>\n",
       "      <th>4</th>\n",
       "      <td>2.0</td>\n",
       "      <td>Без ремонта</td>\n",
       "      <td>35000.0</td>\n",
       "    </tr>\n",
       "    <tr>\n",
       "      <th>5</th>\n",
       "      <td>2.0</td>\n",
       "      <td>Дизайнерский</td>\n",
       "      <td>75000.0</td>\n",
       "    </tr>\n",
       "    <tr>\n",
       "      <th>6</th>\n",
       "      <td>2.0</td>\n",
       "      <td>Евроремонт</td>\n",
       "      <td>55000.0</td>\n",
       "    </tr>\n",
       "    <tr>\n",
       "      <th>7</th>\n",
       "      <td>2.0</td>\n",
       "      <td>Косметический</td>\n",
       "      <td>42000.0</td>\n",
       "    </tr>\n",
       "    <tr>\n",
       "      <th>8</th>\n",
       "      <td>3.0</td>\n",
       "      <td>Без ремонта</td>\n",
       "      <td>46000.0</td>\n",
       "    </tr>\n",
       "    <tr>\n",
       "      <th>9</th>\n",
       "      <td>3.0</td>\n",
       "      <td>Дизайнерский</td>\n",
       "      <td>95000.0</td>\n",
       "    </tr>\n",
       "    <tr>\n",
       "      <th>10</th>\n",
       "      <td>3.0</td>\n",
       "      <td>Евроремонт</td>\n",
       "      <td>75000.0</td>\n",
       "    </tr>\n",
       "    <tr>\n",
       "      <th>11</th>\n",
       "      <td>3.0</td>\n",
       "      <td>Косметический</td>\n",
       "      <td>55000.0</td>\n",
       "    </tr>\n",
       "    <tr>\n",
       "      <th>12</th>\n",
       "      <td>4.0</td>\n",
       "      <td>Без ремонта</td>\n",
       "      <td>72106.0</td>\n",
       "    </tr>\n",
       "    <tr>\n",
       "      <th>13</th>\n",
       "      <td>4.0</td>\n",
       "      <td>Дизайнерский</td>\n",
       "      <td>109995.0</td>\n",
       "    </tr>\n",
       "    <tr>\n",
       "      <th>14</th>\n",
       "      <td>4.0</td>\n",
       "      <td>Евроремонт</td>\n",
       "      <td>96500.0</td>\n",
       "    </tr>\n",
       "    <tr>\n",
       "      <th>15</th>\n",
       "      <td>4.0</td>\n",
       "      <td>Косметический</td>\n",
       "      <td>80000.0</td>\n",
       "    </tr>\n",
       "    <tr>\n",
       "      <th>16</th>\n",
       "      <td>5.0</td>\n",
       "      <td>Дизайнерский</td>\n",
       "      <td>25000.0</td>\n",
       "    </tr>\n",
       "    <tr>\n",
       "      <th>17</th>\n",
       "      <td>5.0</td>\n",
       "      <td>Евроремонт</td>\n",
       "      <td>100000.0</td>\n",
       "    </tr>\n",
       "    <tr>\n",
       "      <th>18</th>\n",
       "      <td>5.0</td>\n",
       "      <td>Косметический</td>\n",
       "      <td>100000.0</td>\n",
       "    </tr>\n",
       "    <tr>\n",
       "      <th>19</th>\n",
       "      <td>6.0</td>\n",
       "      <td>Дизайнерский</td>\n",
       "      <td>10000.0</td>\n",
       "    </tr>\n",
       "    <tr>\n",
       "      <th>20</th>\n",
       "      <td>6.0</td>\n",
       "      <td>Евроремонт</td>\n",
       "      <td>23000.0</td>\n",
       "    </tr>\n",
       "    <tr>\n",
       "      <th>21</th>\n",
       "      <td>6.0</td>\n",
       "      <td>Косметический</td>\n",
       "      <td>110000.0</td>\n",
       "    </tr>\n",
       "  </tbody>\n",
       "</table>\n",
       "</div>"
      ],
      "text/plain": [
       "    Количество комнат         Ремонт  Медианная_цена\n",
       "0                 1.0    Без ремонта         27000.0\n",
       "1                 1.0   Дизайнерский         55000.0\n",
       "2                 1.0     Евроремонт         40000.0\n",
       "3                 1.0  Косметический         33000.0\n",
       "4                 2.0    Без ремонта         35000.0\n",
       "5                 2.0   Дизайнерский         75000.0\n",
       "6                 2.0     Евроремонт         55000.0\n",
       "7                 2.0  Косметический         42000.0\n",
       "8                 3.0    Без ремонта         46000.0\n",
       "9                 3.0   Дизайнерский         95000.0\n",
       "10                3.0     Евроремонт         75000.0\n",
       "11                3.0  Косметический         55000.0\n",
       "12                4.0    Без ремонта         72106.0\n",
       "13                4.0   Дизайнерский        109995.0\n",
       "14                4.0     Евроремонт         96500.0\n",
       "15                4.0  Косметический         80000.0\n",
       "16                5.0   Дизайнерский         25000.0\n",
       "17                5.0     Евроремонт        100000.0\n",
       "18                5.0  Косметический        100000.0\n",
       "19                6.0   Дизайнерский         10000.0\n",
       "20                6.0     Евроремонт         23000.0\n",
       "21                6.0  Косметический        110000.0"
      ]
     },
     "execution_count": 381,
     "metadata": {},
     "output_type": "execute_result"
    }
   ],
   "source": [
    "median_prices = data.groupby(['Количество комнат', 'Ремонт'])['Цена'].median().reset_index()\n",
    "median_prices.rename(columns={'Цена': 'Медианная_цена'}, inplace=True)\n",
    "\n",
    "median_prices"
   ]
  },
  {
   "cell_type": "code",
   "execution_count": 382,
   "id": "c7b47695",
   "metadata": {},
   "outputs": [
    {
     "name": "stdout",
     "output_type": "stream",
     "text": [
      "Unnamed: 0                      0\n",
      "ID  объявления                  0\n",
      "Количество комнат            1021\n",
      "Тип                             0\n",
      "Метро                        1132\n",
      "Адрес                           0\n",
      "Площадь, м2                     0\n",
      "Дом                             0\n",
      "Парковка                    12132\n",
      "Цена                            0\n",
      "Ремонт                       2371\n",
      "Площадь комнат, м2           7467\n",
      "Балкон                       6527\n",
      "Окна                         5856\n",
      "Санузел                      2278\n",
      "Можно с детьми/животными     5480\n",
      "Дополнительно                 293\n",
      "Название ЖК                 16031\n",
      "Серия дома                  18530\n",
      "Высота потолков, м          10396\n",
      "Лифт                         4745\n",
      "Мусоропровод                 8641\n",
      "Залог                         872\n",
      "dtype: int64\n"
     ]
    }
   ],
   "source": [
    "missing_values_count = data.isnull().sum()\n",
    "print(missing_values_count)"
   ]
  },
  {
   "cell_type": "code",
   "execution_count": null,
   "id": "a7fda846",
   "metadata": {},
   "outputs": [],
   "source": [
    "set(median_prices['Ремонт'])"
   ]
  },
  {
   "cell_type": "code",
   "execution_count": 383,
   "id": "0925fd59",
   "metadata": {},
   "outputs": [
    {
     "data": {
      "text/plain": [
       "0           Евроремонт\n",
       "1           Евроремонт\n",
       "2           Евроремонт\n",
       "3           Евроремонт\n",
       "4         Дизайнерский\n",
       "             ...      \n",
       "17095    Косметический\n",
       "17096       Евроремонт\n",
       "17097     Дизайнерский\n",
       "17098       Евроремонт\n",
       "17099    Косметический\n",
       "Name: Ремонт, Length: 17100, dtype: object"
      ]
     },
     "execution_count": 383,
     "metadata": {},
     "output_type": "execute_result"
    }
   ],
   "source": [
    "data = data.merge(median_prices, on=['Количество комнат', 'Ремонт'])\n",
    "(data['Ремонт'])"
   ]
  },
  {
   "cell_type": "code",
   "execution_count": 384,
   "id": "286db52e",
   "metadata": {},
   "outputs": [
    {
     "name": "stdout",
     "output_type": "stream",
     "text": [
      "Unnamed: 0                      0\n",
      "ID  объявления                  0\n",
      "Количество комнат               0\n",
      "Тип                             0\n",
      "Метро                         961\n",
      "Адрес                           0\n",
      "Площадь, м2                     0\n",
      "Дом                             0\n",
      "Парковка                     9948\n",
      "Цена                            0\n",
      "Ремонт                          0\n",
      "Площадь комнат, м2           5373\n",
      "Балкон                       4946\n",
      "Окна                         4539\n",
      "Санузел                      1928\n",
      "Можно с детьми/животными     4461\n",
      "Дополнительно                 237\n",
      "Название ЖК                 13839\n",
      "Серия дома                  16749\n",
      "Высота потолков, м           8653\n",
      "Лифт                         3455\n",
      "Мусоропровод                 5688\n",
      "Залог                         751\n",
      "Медианная_цена                  0\n",
      "dtype: int64\n"
     ]
    }
   ],
   "source": [
    "missing_values_count = data.isnull().sum()\n",
    "print(missing_values_count)"
   ]
  },
  {
   "cell_type": "code",
   "execution_count": null,
   "id": "0a1cbafe",
   "metadata": {},
   "outputs": [],
   "source": [
    "def fill_repair(row):\n",
    "    if pd.isna(row['Ремонт']):\n",
    "        if row['Количество комнат'] == 1:\n",
    "            repair_mapping = {\n",
    "            27000.0: 'Без ремонта',\n",
    "            55000.0: 'Дизайнерский',\n",
    "            40000.0: 'Евроремонт',\n",
    "            33000.0: 'Косметический'}\n",
    "\n",
    "            return repair_mapping.get(round(row['Медианная_цена']), np.nan)\n",
    "        \n",
    "        if row['Количество комнат'] == 2:\n",
    "            repair_mapping = {\n",
    "            35000.0: 'Без ремонта',\n",
    "            75000.0: 'Дизайнерский',\n",
    "            55000.0: 'Евроремонт',\n",
    "            42000.0: 'Косметический'}\n",
    "\n",
    "            return repair_mapping.get(round(row['Медианная_цена']), np.nan)\n",
    "        \n",
    "        if row['Количество комнат'] == 3:\n",
    "            repair_mapping = {\n",
    "            46000.0: 'Без ремонта',\n",
    "            95000.0: 'Дизайнерский',\n",
    "            75000.0: 'Евроремонт',\n",
    "            55000.0: 'Косметический'}\n",
    "\n",
    "            return repair_mapping.get(round(row['Медианная_цена']), np.nan)\n",
    "        \n",
    "        if row['Количество комнат'] == 4:\n",
    "            repair_mapping = {\n",
    "            72106.0: 'Без ремонта',\n",
    "            109995.0: 'Дизайнерский',\n",
    "            96500.0: 'Евроремонт',\n",
    "            80000.0: 'Косметический'}\n",
    "\n",
    "            return repair_mapping.get(round(row['Медианная_цена']), np.nan)\n",
    "        \n",
    "        if row['Количество комнат'] == 5:\n",
    "            repair_mapping = {\n",
    "            385000.0: 'Без ремонта',\n",
    "            400000.0: 'Дизайнерский',\n",
    "            300000.0: 'Евроремонт',\n",
    "            220000.0: 'Косметический'}\n",
    "\n",
    "            return repair_mapping.get(round(row['Медианная_цена']), 'Косметический')\n",
    "        \n",
    "        if row['Количество комнат'] == 6:\n",
    "            repair_mapping = {\n",
    "            700000.0: 'Без ремонта',\n",
    "            590000.0: 'Дизайнерский',\n",
    "            550000.0: 'Евроремонт',\n",
    "            405000.0: 'Косметический'}\n",
    "\n",
    "            return repair_mapping.get(round(row['Медианная_цена']), 'Косметический')\n",
    "        \n",
    "        return 'Косметический'"
   ]
  },
  {
   "cell_type": "code",
   "execution_count": null,
   "id": "0a00badb",
   "metadata": {},
   "outputs": [],
   "source": [
    "data.apply(fill_repair, axis=1)\n"
   ]
  },
  {
   "cell_type": "code",
   "execution_count": null,
   "id": "67db28f6",
   "metadata": {},
   "outputs": [],
   "source": [
    "missing_values_count = data.isnull().sum()\n",
    "print(missing_values_count)"
   ]
  },
  {
   "cell_type": "markdown",
   "id": "9266c36a",
   "metadata": {},
   "source": [
    "# Заполнить колонку \"Можно с детьми\" "
   ]
  },
  {
   "cell_type": "code",
   "execution_count": null,
   "id": "ef08ae7f",
   "metadata": {},
   "outputs": [],
   "source": [
    "data['Можно с детьми/животными'] = data['Можно с детьми/животными'].fillna('Можно с детьми')"
   ]
  },
  {
   "cell_type": "code",
   "execution_count": null,
   "id": "6ab31315",
   "metadata": {},
   "outputs": [],
   "source": [
    "set(data['Можно с детьми/животными'])"
   ]
  },
  {
   "cell_type": "code",
   "execution_count": null,
   "id": "05978e2e",
   "metadata": {},
   "outputs": [],
   "source": [
    "missing_values_count = data.isnull().sum()\n",
    "print(missing_values_count)"
   ]
  },
  {
   "cell_type": "code",
   "execution_count": null,
   "id": "f4a3343c",
   "metadata": {},
   "outputs": [],
   "source": []
  },
  {
   "cell_type": "markdown",
   "id": "39ae1ba8",
   "metadata": {},
   "source": [
    "# Удалить серию дома"
   ]
  },
  {
   "cell_type": "code",
   "execution_count": null,
   "id": "80e4622b",
   "metadata": {},
   "outputs": [],
   "source": [
    "data.drop(columns=['Unnamed: 0', 'Серия дома'], inplace=True)"
   ]
  },
  {
   "cell_type": "code",
   "execution_count": null,
   "id": "e94f2edc",
   "metadata": {},
   "outputs": [],
   "source": [
    "data.info()"
   ]
  },
  {
   "cell_type": "markdown",
   "id": "eb8a699e",
   "metadata": {},
   "source": [
    "# Заполнить столбец лифт пасажирскими лифтами (М)"
   ]
  },
  {
   "cell_type": "code",
   "execution_count": null,
   "id": "2e7742da",
   "metadata": {},
   "outputs": [],
   "source": [
    "data['Лифт']"
   ]
  },
  {
   "cell_type": "code",
   "execution_count": null,
   "id": "643375dd",
   "metadata": {},
   "outputs": [],
   "source": [
    "set(data['Лифт'])"
   ]
  },
  {
   "cell_type": "code",
   "execution_count": null,
   "id": "ddfc5359",
   "metadata": {},
   "outputs": [],
   "source": [
    "def liftcounter(line):\n",
    "    try:\n",
    "        res = re.findall(r'\\((\\d+)\\)', line)\n",
    "        res = [int(i) for i in res]\n",
    "        return sum(res)\n",
    "    except:\n",
    "        return np.nan\n",
    "\n",
    "print(liftcounter('Пасс (3), Груз (3)'))"
   ]
  },
  {
   "cell_type": "code",
   "execution_count": null,
   "id": "c6655d0c",
   "metadata": {},
   "outputs": [],
   "source": [
    "data['Лифт'] = data['Лифт'].apply(liftcounter)\n"
   ]
  },
  {
   "cell_type": "code",
   "execution_count": null,
   "id": "e7bdf504",
   "metadata": {},
   "outputs": [],
   "source": [
    "data['Лифт']"
   ]
  },
  {
   "cell_type": "code",
   "execution_count": null,
   "id": "d8ea41dc",
   "metadata": {},
   "outputs": [],
   "source": [
    "Q1 = data['Лифт'].quantile(0.25)\n",
    "Q3 = data['Лифт'].quantile(0.999)\n",
    "median = data['Лифт'].agg('median')\n",
    "\n",
    "print( Q1, Q3, median)"
   ]
  },
  {
   "cell_type": "code",
   "execution_count": null,
   "id": "5b2df6b7",
   "metadata": {},
   "outputs": [],
   "source": [
    "def liftmeanfiller(value):\n",
    "    if pd.isna(value):\n",
    "        return median\n",
    "    elif value > Q3:\n",
    "        return median\n",
    "    return value\n",
    "\n",
    "print(liftmeanfiller(3.0))"
   ]
  },
  {
   "cell_type": "code",
   "execution_count": null,
   "id": "57e9d940",
   "metadata": {},
   "outputs": [],
   "source": [
    "data['Лифт'] = data['Лифт'].apply(liftmeanfiller)"
   ]
  },
  {
   "cell_type": "code",
   "execution_count": null,
   "id": "35a9b2ce",
   "metadata": {},
   "outputs": [],
   "source": [
    "set(data['Лифт'])"
   ]
  },
  {
   "cell_type": "code",
   "execution_count": null,
   "id": "132995ff",
   "metadata": {},
   "outputs": [],
   "source": [
    "missing_values_count = data.isnull().sum()\n",
    "print(missing_values_count)"
   ]
  },
  {
   "cell_type": "markdown",
   "id": "1b5b7898",
   "metadata": {},
   "source": [
    "#  Заполнить залог данными с цены  (М)"
   ]
  },
  {
   "cell_type": "code",
   "execution_count": null,
   "id": "18abdf6c",
   "metadata": {},
   "outputs": [],
   "source": [
    "data.info()"
   ]
  },
  {
   "cell_type": "code",
   "execution_count": null,
   "id": "6bc66406",
   "metadata": {},
   "outputs": [],
   "source": [
    "data['Залог'].fillna(data['Цена'], inplace=True)"
   ]
  },
  {
   "cell_type": "markdown",
   "id": "cc019f51",
   "metadata": {},
   "source": [
    "# Заполнить парковку"
   ]
  },
  {
   "cell_type": "code",
   "execution_count": null,
   "id": "00d12ca0",
   "metadata": {},
   "outputs": [],
   "source": [
    "data['Парковка'] = data['Парковка'].fillna('наземная')"
   ]
  },
  {
   "cell_type": "markdown",
   "id": "59bc624b",
   "metadata": {},
   "source": [
    "# Удалить мусоропровод"
   ]
  },
  {
   "cell_type": "code",
   "execution_count": null,
   "id": "16ae1be3",
   "metadata": {},
   "outputs": [],
   "source": [
    "data.drop(columns=['Мусоропровод'], inplace=True)\n"
   ]
  },
  {
   "cell_type": "markdown",
   "id": "4a335ea9",
   "metadata": {},
   "source": [
    "# Шаг 5: Заполнение пропусков в остальных колонках"
   ]
  },
  {
   "cell_type": "code",
   "execution_count": null,
   "id": "9d204d48",
   "metadata": {},
   "outputs": [],
   "source": [
    "# Шаг 5: Заполнение пропусков в остальных колонках\n",
    "basic_columns = ['Балкон', 'Окна', 'Санузел']\n",
    "\n",
    "for col in basic_columns:\n",
    "    if col in data.columns:\n",
    "        # Заполняем самым частым значением\n",
    "        most_common = data[col].mode()[0] if not data[col].mode().empty else 'Не указано'\n",
    "        data[col] = data[col].fillna(most_common)\n",
    "        print(f\"Заполнено {col}: {most_common}\")"
   ]
  },
  {
   "cell_type": "markdown",
   "id": "da5cff51",
   "metadata": {},
   "source": [
    "# Удаляем название ЖК"
   ]
  },
  {
   "cell_type": "code",
   "execution_count": null,
   "id": "6d5aefa6",
   "metadata": {},
   "outputs": [],
   "source": [
    "data.drop(columns=['Название ЖК'], inplace=True)"
   ]
  },
  {
   "cell_type": "code",
   "execution_count": null,
   "id": "f8c8210e",
   "metadata": {},
   "outputs": [],
   "source": [
    "data"
   ]
  },
  {
   "cell_type": "code",
   "execution_count": null,
   "id": "571a8d25",
   "metadata": {},
   "outputs": [],
   "source": [
    "# data.to_csv('Data_for_coding')"
   ]
  }
 ],
 "metadata": {
  "kernelspec": {
   "display_name": "base_venv",
   "language": "python",
   "name": "python3"
  },
  "language_info": {
   "codemirror_mode": {
    "name": "ipython",
    "version": 3
   },
   "file_extension": ".py",
   "mimetype": "text/x-python",
   "name": "python",
   "nbconvert_exporter": "python",
   "pygments_lexer": "ipython3",
   "version": "3.12.11"
  }
 },
 "nbformat": 4,
 "nbformat_minor": 5
}
