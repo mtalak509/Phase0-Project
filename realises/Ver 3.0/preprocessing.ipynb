{
 "cells": [
  {
   "cell_type": "code",
   "execution_count": 172,
   "id": "718b185b",
   "metadata": {},
   "outputs": [],
   "source": [
    "import pandas as pd\n",
    "import numpy as np\n",
    "import sklearn as sl\n",
    "import re\n",
    "\n",
    "\n",
    "from sklearn.model_selection import KFold\n",
    "from sklearn.preprocessing import LabelEncoder\n",
    "from sklearn.preprocessing import OneHotEncoder"
   ]
  },
  {
   "cell_type": "code",
   "execution_count": 173,
   "id": "7890dcdd",
   "metadata": {},
   "outputs": [
    {
     "name": "stdout",
     "output_type": "stream",
     "text": [
      "/home/maxim/DS/Phase_0/Phase_0_final_proj/Phase0-Project/realises/Ver 3.0\n"
     ]
    }
   ],
   "source": [
    "!pwd"
   ]
  },
  {
   "cell_type": "code",
   "execution_count": 174,
   "id": "38f24a2b",
   "metadata": {},
   "outputs": [],
   "source": [
    "data = pd.read_csv('/home/maxim/DS/Phase_0/Phase_0_final_proj/Phase0-Project/realises/Ver 2.0/Data')\n"
   ]
  },
  {
   "cell_type": "code",
   "execution_count": 175,
   "id": "0f0a0deb",
   "metadata": {},
   "outputs": [],
   "source": [
    "data.drop(columns=['Unnamed: 0', 'Метро', 'building'], inplace=True)"
   ]
  },
  {
   "cell_type": "code",
   "execution_count": 176,
   "id": "978581d8",
   "metadata": {},
   "outputs": [
    {
     "name": "stderr",
     "output_type": "stream",
     "text": [
      "/tmp/ipykernel_36999/654926195.py:1: FutureWarning: A value is trying to be set on a copy of a DataFrame or Series through chained assignment using an inplace method.\n",
      "The behavior will change in pandas 3.0. This inplace method will never work because the intermediate object on which we are setting values always behaves as a copy.\n",
      "\n",
      "For example, when doing 'df[col].method(value, inplace=True)', try using 'df.method({col: value}, inplace=True)' or df[col] = df[col].method(value) instead, to perform the operation inplace on the original object.\n",
      "\n",
      "\n",
      "  data['walking_time_to_subway'].fillna(data['walking_time_to_subway'].median(), inplace=True)\n"
     ]
    }
   ],
   "source": [
    "data['walking_time_to_subway'].fillna(data['walking_time_to_subway'].median(), inplace=True)"
   ]
  },
  {
   "cell_type": "code",
   "execution_count": 177,
   "id": "1b43d4c0",
   "metadata": {},
   "outputs": [],
   "source": [
    "def splitter(line):\n",
    "    res=len(line.split(','))\n",
    "    return res"
   ]
  },
  {
   "cell_type": "code",
   "execution_count": 178,
   "id": "6531da85",
   "metadata": {},
   "outputs": [],
   "source": [
    "data['additional_info'] = data['additional_info'].apply(splitter)"
   ]
  },
  {
   "cell_type": "markdown",
   "id": "32377afd",
   "metadata": {},
   "source": [
    "# Кодируем часть фич Target Encoder"
   ]
  },
  {
   "cell_type": "code",
   "execution_count": 179,
   "id": "9e2d13f2",
   "metadata": {},
   "outputs": [],
   "source": [
    "\n",
    "class TargetEncoderRooms:\n",
    "    def __init__(self, smoothing=1.0):\n",
    "        self.smoothing = smoothing\n",
    "        self.mapping = {}\n",
    "        self.global_mean = None  # Добавляем атрибут для глобального среднего\n",
    "        \n",
    "    def fit_transform(self, X, y):\n",
    "        self.global_mean = y.mean()  # Сохраняем глобальное среднее\n",
    "        self.mapping = self._calculate_means(X, y)\n",
    "        return self._apply_encoding(X)\n",
    "        \n",
    "    def transform(self, X):\n",
    "        return self._apply_encoding(X)\n",
    "        \n",
    "    def _calculate_means(self, X, y):\n",
    "        global_mean = y.mean()\n",
    "        means = {}\n",
    "        \n",
    "        for room in X.unique():\n",
    "            room_mean = y[X == room].mean()\n",
    "            n = (X == room).sum()\n",
    "            \n",
    "            # Сглаживание для предотвращения переобучения\n",
    "            means[room] = (room_mean * n + global_mean * self.smoothing) / (n + self.smoothing)\n",
    "            \n",
    "        return means\n",
    "        \n",
    "    def _apply_encoding(self, X):\n",
    "        # Используем сохраненное глобальное среднее\n",
    "        return X.map(self.mapping).fillna(self.global_mean)\n",
    "\n",
    "\n",
    "# Создаем экземпляр кодировщика\n",
    "encoder = TargetEncoderRooms(smoothing=1.0)\n",
    "\n",
    "\n"
   ]
  },
  {
   "cell_type": "code",
   "execution_count": 180,
   "id": "5542d7ec",
   "metadata": {},
   "outputs": [],
   "source": [
    "data['number_of_rooms'] = encoder.fit_transform(data['number_of_rooms'], data['price']) # Кодируем комнаты"
   ]
  },
  {
   "cell_type": "markdown",
   "id": "6df77f20",
   "metadata": {},
   "source": [
    "# Кодируем часть фич LabelEncoder()"
   ]
  },
  {
   "cell_type": "code",
   "execution_count": 181,
   "id": "6b4b6e7e",
   "metadata": {},
   "outputs": [],
   "source": [
    "le = LabelEncoder()"
   ]
  },
  {
   "cell_type": "code",
   "execution_count": 182,
   "id": "ac6367c3",
   "metadata": {},
   "outputs": [],
   "source": [
    "data['type'] = le.fit_transform(data['type'])"
   ]
  },
  {
   "cell_type": "code",
   "execution_count": 183,
   "id": "49629aac",
   "metadata": {},
   "outputs": [],
   "source": [
    "data['balcony'] = le.fit_transform(data['balcony'])"
   ]
  },
  {
   "cell_type": "code",
   "execution_count": 184,
   "id": "8d39bca5",
   "metadata": {},
   "outputs": [],
   "source": [
    "data['bathroom'] = le.fit_transform(data['bathroom'])\n"
   ]
  },
  {
   "cell_type": "code",
   "execution_count": 185,
   "id": "2e24847d",
   "metadata": {},
   "outputs": [],
   "source": [
    "data['subway_station_name'] = le.fit_transform(data['subway_station_name'])"
   ]
  },
  {
   "cell_type": "code",
   "execution_count": 186,
   "id": "026c3932",
   "metadata": {},
   "outputs": [],
   "source": [
    "data['lift'] = le.fit_transform(data['lift'])"
   ]
  },
  {
   "cell_type": "markdown",
   "id": "c9863588",
   "metadata": {},
   "source": [
    "# Кодируем часть фич OneHotEncoder"
   ]
  },
  {
   "cell_type": "code",
   "execution_count": 187,
   "id": "96850f12",
   "metadata": {},
   "outputs": [],
   "source": [
    "one = OneHotEncoder(sparse_output=False)  # drop='first' для dummy encoding\n"
   ]
  },
  {
   "cell_type": "code",
   "execution_count": 188,
   "id": "22a61546",
   "metadata": {},
   "outputs": [
    {
     "name": "stdout",
     "output_type": "stream",
     "text": [
      "Закодированные данные:\n",
      " [[0. 1. 0.]\n",
      " [0. 0. 1.]\n",
      " [0. 1. 0.]\n",
      " ...\n",
      " [0. 0. 1.]\n",
      " [1. 0. 0.]\n",
      " [1. 0. 0.]]\n",
      "\n",
      "Названия новых столбцов: ['windows_Во двор' 'windows_На улицу' 'windows_На улицу и двор']\n"
     ]
    }
   ],
   "source": [
    "\n",
    "# Применяем кодирование\n",
    "encoded_data = one.fit_transform(data[['windows']])\n",
    "print(\"Закодированные данные:\\n\", encoded_data)\n",
    "\n",
    "# Получаем названия новых столбцов\n",
    "feature_names = one.get_feature_names_out(['windows'])\n",
    "print(\"\\nНазвания новых столбцов:\", feature_names)\n",
    "\n",
    "# Создаем новый DataFrame\n",
    "temp = pd.DataFrame(encoded_data, columns=feature_names)\n",
    "\n",
    "# Объединяем и удаляем исходный столбец\n",
    "data = pd.concat([data, temp], axis=1)\n",
    "data.drop(columns=['windows'], inplace=True)"
   ]
  },
  {
   "cell_type": "code",
   "execution_count": 189,
   "id": "8a16103a",
   "metadata": {},
   "outputs": [],
   "source": [
    "# Применяем кодирование\n",
    "encoded_data = one.fit_transform(data[['allow_children_pets']])\n",
    "\n",
    "# Получаем названия новых столбцов\n",
    "feature_names = one.get_feature_names_out(['allow_children_pets'])\n",
    "\n",
    "# Создаем новый DataFrame\n",
    "temp = pd.DataFrame(encoded_data, columns=feature_names)\n",
    "data = pd.concat([data, temp], axis=1)\n",
    "\n",
    "data.drop(columns=['allow_children_pets'], inplace=True)"
   ]
  },
  {
   "cell_type": "code",
   "execution_count": 190,
   "id": "efb58cdc",
   "metadata": {},
   "outputs": [
    {
     "name": "stdout",
     "output_type": "stream",
     "text": [
      "Закодированные данные:\n",
      " [[0. 0. 0. 1. 0.]\n",
      " [0. 0. 1. 0. 0.]\n",
      " [0. 0. 1. 0. 0.]\n",
      " ...\n",
      " [0. 0. 1. 0. 0.]\n",
      " [0. 0. 1. 0. 0.]\n",
      " [0. 0. 1. 0. 0.]]\n",
      "\n",
      "Названия новых столбцов: ['parking_многоуровневая' 'parking_на крыше' 'parking_наземная'\n",
      " 'parking_открытая' 'parking_подземная']\n"
     ]
    }
   ],
   "source": [
    "\n",
    "# Применяем кодирование\n",
    "encoded_data = one.fit_transform(data[['parking']])\n",
    "print(\"Закодированные данные:\\n\", encoded_data)\n",
    "\n",
    "# Получаем названия новых столбцов\n",
    "feature_names = one.get_feature_names_out(['parking'])\n",
    "print(\"\\nНазвания новых столбцов:\", feature_names)\n",
    "\n",
    "# Создаем новый DataFrame\n",
    "temp = pd.DataFrame(encoded_data, columns=feature_names)\n",
    "\n",
    "# Объединяем и удаляем исходный столбец\n",
    "data = pd.concat([data, temp], axis=1)\n",
    "data.drop(columns=['parking'], inplace=True)"
   ]
  },
  {
   "cell_type": "code",
   "execution_count": 191,
   "id": "af67e0bc",
   "metadata": {},
   "outputs": [
    {
     "name": "stdout",
     "output_type": "stream",
     "text": [
      "Закодированные данные:\n",
      " [[0. 0. 1. 0.]\n",
      " [0. 0. 1. 0.]\n",
      " [0. 0. 1. 0.]\n",
      " ...\n",
      " [0. 1. 0. 0.]\n",
      " [0. 0. 1. 0.]\n",
      " [0. 0. 0. 1.]]\n",
      "\n",
      "Названия новых столбцов: ['renovation_Без ремонта' 'renovation_Дизайнерский'\n",
      " 'renovation_Евроремонт' 'renovation_Косметический']\n"
     ]
    }
   ],
   "source": [
    "\n",
    "# Применяем кодирование\n",
    "encoded_data = one.fit_transform(data[['renovation']])\n",
    "print(\"Закодированные данные:\\n\", encoded_data)\n",
    "\n",
    "# Получаем названия новых столбцов\n",
    "feature_names = one.get_feature_names_out(['renovation'])\n",
    "print(\"\\nНазвания новых столбцов:\", feature_names)\n",
    "\n",
    "# Создаем новый DataFrame\n",
    "temp = pd.DataFrame(encoded_data, columns=feature_names)\n",
    "\n",
    "# Объединяем и удаляем исходный столбец\n",
    "data = pd.concat([data, temp], axis=1)\n",
    "data.drop(columns=['renovation'], inplace=True)"
   ]
  },
  {
   "cell_type": "code",
   "execution_count": 192,
   "id": "e8c44e20",
   "metadata": {},
   "outputs": [],
   "source": [
    "data.rename(columns= {'windows_Во двор' : 'windows_1',\n",
    "                      'windows_На улицу' : 'windows_2',\n",
    "                      'windows_На улицу и двор': 'windows_3',\n",
    "                      'allow_children_pets_Можно с детьми' : 'allow_children_pets_1',\n",
    "                      'allow_children_pets_Можно с детьми, Можно с животными' : 'allow_children_pets_2',\n",
    "                       'allow_children_pets_Можно с животными' : 'allow_children_pets_3',\n",
    "                       'parking_многоуровневая' : 'parking_1',\n",
    "                       'parking_на крыше' : 'parking_2',\n",
    "                       'parking_наземная' : 'parking_3',\n",
    "                       'parking_открытая' : 'parking_4',\n",
    "                       'parking_подземная' : 'parking_5',\n",
    "                       'renovation_Без ремонта' : 'renovation_1',\n",
    "                       'renovation_Дизайнерский' : 'renovation_2',\n",
    "                       'renovation_Евроремонт': 'renovation_3',\n",
    "                       'renovation_Косметический' : 'renovation_4'\n",
    "\n",
    "}, inplace=True)"
   ]
  },
  {
   "cell_type": "code",
   "execution_count": null,
   "id": "b16efb6b",
   "metadata": {},
   "outputs": [],
   "source": [
    "# data.to_csv('Batman & Robbin team')"
   ]
  }
 ],
 "metadata": {
  "kernelspec": {
   "display_name": "base_venv",
   "language": "python",
   "name": "python3"
  },
  "language_info": {
   "codemirror_mode": {
    "name": "ipython",
    "version": 3
   },
   "file_extension": ".py",
   "mimetype": "text/x-python",
   "name": "python",
   "nbconvert_exporter": "python",
   "pygments_lexer": "ipython3",
   "version": "3.12.11"
  }
 },
 "nbformat": 4,
 "nbformat_minor": 5
}
